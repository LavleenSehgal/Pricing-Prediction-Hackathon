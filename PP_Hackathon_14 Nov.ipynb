{
 "cells": [
  {
   "cell_type": "code",
   "execution_count": 1,
   "id": "1cfe61fb",
   "metadata": {},
   "outputs": [],
   "source": [
    "import pandas as pd\n",
    "import numpy as np\n",
    "import matplotlib.pyplot as plt\n",
    "%matplotlib inline"
   ]
  },
  {
   "cell_type": "code",
   "execution_count": 2,
   "id": "d0ca7f56",
   "metadata": {
    "scrolled": true
   },
   "outputs": [
    {
     "name": "stderr",
     "output_type": "stream",
     "text": [
      "/opt/anaconda3/lib/python3.8/site-packages/IPython/core/interactiveshell.py:3165: DtypeWarning: Columns (8,16,22,24,25) have mixed types.Specify dtype option on import or set low_memory=False.\n",
      "  has_raised = await self.run_ast_nodes(code_ast.body, cell_name,\n"
     ]
    }
   ],
   "source": [
    "train=pd.read_csv(\"TRAININGexcel.csv\")\n",
    "test=pd.read_csv(\"TESTclean.csv\")"
   ]
  },
  {
   "cell_type": "code",
   "execution_count": 3,
   "id": "f082d389",
   "metadata": {},
   "outputs": [],
   "source": [
    "alldata = train.append(test)"
   ]
  },
  {
   "cell_type": "code",
   "execution_count": 4,
   "id": "3fa3f732",
   "metadata": {
    "scrolled": true
   },
   "outputs": [
    {
     "name": "stdout",
     "output_type": "stream",
     "text": [
      "<class 'pandas.core.frame.DataFrame'>\n",
      "RangeIndex: 21546 entries, 0 to 21545\n",
      "Data columns (total 35 columns):\n",
      " #   Column               Non-Null Count  Dtype  \n",
      "---  ------               --------------  -----  \n",
      " 0   index                21546 non-null  int64  \n",
      " 1   Item Code            21546 non-null  object \n",
      " 2   State                21546 non-null  object \n",
      " 3   Date                 21546 non-null  object \n",
      " 4   Month                21546 non-null  int64  \n",
      " 5   Item Description     21546 non-null  object \n",
      " 6   ERP Size             21546 non-null  object \n",
      " 7   Wall / Floor         21546 non-null  object \n",
      " 8   Sticker Body Type    21546 non-null  object \n",
      " 9   Value                17498 non-null  object \n",
      " 10  Item Classification  21546 non-null  object \n",
      " 11  Item Cat. Code       21546 non-null  object \n",
      " 12  Quality Code         21546 non-null  int64  \n",
      " 13  Customer Code        21546 non-null  object \n",
      " 14  Customer City        21546 non-null  object \n",
      " 15  Customer Type        21546 non-null  object \n",
      " 16  Sales Type           21546 non-null  object \n",
      " 17  MRP /BOX             21546 non-null  object \n",
      " 18  MRP /Sqm             21546 non-null  float64\n",
      " 19  AD1 /Sqm             21546 non-null  float64\n",
      " 20  AD2/Sqm              21546 non-null  float64\n",
      " 21  AD3/Sqm              21546 non-null  int64  \n",
      " 22  AD4/Sqm              21506 non-null  float64\n",
      " 23  AD5/Sqm              21506 non-null  object \n",
      " 24  AD6/Sqm              21506 non-null  object \n",
      " 25  AD7/Sqm              21506 non-null  object \n",
      " 26  Total AD/Sqm         21546 non-null  object \n",
      " 27  Billing Rate/Sqm     21532 non-null  float64\n",
      " 28  Buyer Rate/Sqm       21532 non-null  float64\n",
      " 29  Ship+AC0-to City     21490 non-null  object \n",
      " 30  FY                   21546 non-null  object \n",
      " 31  Category             21546 non-null  object \n",
      " 32  Review Zone          21546 non-null  object \n",
      " 33  Category 2           21546 non-null  object \n",
      " 34  Re Territory         21546 non-null  object \n",
      "dtypes: float64(6), int64(4), object(25)\n",
      "memory usage: 5.8+ MB\n"
     ]
    }
   ],
   "source": [
    "alldata = alldata.reset_index()\n",
    "alldata.info()"
   ]
  },
  {
   "cell_type": "code",
   "execution_count": 5,
   "id": "2981df3d",
   "metadata": {},
   "outputs": [],
   "source": [
    "#Remove ID columns and other variables from alldata\n",
    "#Variables such as Item Code\",\"Customer Code\", \"Item Description\", \"Item Classification\", \"Quality Code\", \"Customer City\",\"AD1 /Sqm\", \"AD2/Sqm\", \"AD3/Sqm\", \"AD4/Sqm\", \"AD5/Sqm\", \"AD6/Sqm\", \"AD7/Sqm\", \"Ship+AC0-to City\", \"FY\" \n",
    "alldata= alldata.drop([\"Item Code\",\"Customer Code\", \"Item Description\", \"Item Classification\", \"Quality Code\", \"Customer City\",\"MRP /BOX\", \"AD1 /Sqm\", \"AD2/Sqm\", \"AD3/Sqm\", \"AD4/Sqm\", \"AD5/Sqm\", \"AD6/Sqm\", \"AD7/Sqm\", \"Ship+AC0-to City\", \"FY\" ], axis=1)"
   ]
  },
  {
   "cell_type": "code",
   "execution_count": 6,
   "id": "1c9c7a8c",
   "metadata": {},
   "outputs": [
    {
     "name": "stdout",
     "output_type": "stream",
     "text": [
      "<class 'pandas.core.frame.DataFrame'>\n",
      "RangeIndex: 21546 entries, 0 to 21545\n",
      "Data columns (total 19 columns):\n",
      " #   Column             Non-Null Count  Dtype  \n",
      "---  ------             --------------  -----  \n",
      " 0   index              21546 non-null  int64  \n",
      " 1   State              21546 non-null  object \n",
      " 2   Date               21546 non-null  object \n",
      " 3   Month              21546 non-null  int64  \n",
      " 4   ERP Size           21546 non-null  object \n",
      " 5   Wall / Floor       21546 non-null  object \n",
      " 6   Sticker Body Type  21546 non-null  object \n",
      " 7   Value              17498 non-null  object \n",
      " 8   Item Cat. Code     21546 non-null  object \n",
      " 9   Customer Type      21546 non-null  object \n",
      " 10  Sales Type         21546 non-null  object \n",
      " 11  MRP /Sqm           21546 non-null  float64\n",
      " 12  Total AD/Sqm       21546 non-null  object \n",
      " 13  Billing Rate/Sqm   21532 non-null  float64\n",
      " 14  Buyer Rate/Sqm     21532 non-null  float64\n",
      " 15  Category           21546 non-null  object \n",
      " 16  Review Zone        21546 non-null  object \n",
      " 17  Category 2         21546 non-null  object \n",
      " 18  Re Territory       21546 non-null  object \n",
      "dtypes: float64(3), int64(2), object(14)\n",
      "memory usage: 3.1+ MB\n"
     ]
    }
   ],
   "source": [
    "alldata.info()"
   ]
  },
  {
   "cell_type": "code",
   "execution_count": 7,
   "id": "713ce7d4",
   "metadata": {},
   "outputs": [
    {
     "data": {
      "text/plain": [
       "Index(['index', 'Month', 'MRP /Sqm', 'Billing Rate/Sqm', 'Buyer Rate/Sqm'], dtype='object')"
      ]
     },
     "execution_count": 7,
     "metadata": {},
     "output_type": "execute_result"
    }
   ],
   "source": [
    "df_numeric_features = alldata.select_dtypes(include=[np.number])\n",
    "\n",
    "df_numeric_features.columns"
   ]
  },
  {
   "cell_type": "code",
   "execution_count": 8,
   "id": "d1af7095",
   "metadata": {},
   "outputs": [
    {
     "name": "stderr",
     "output_type": "stream",
     "text": [
      "<ipython-input-8-0c7b72d9a543>:1: DeprecationWarning: `np.object` is a deprecated alias for the builtin `object`. To silence this warning, use `object` by itself. Doing this will not modify any behavior and is safe. \n",
      "Deprecated in NumPy 1.20; for more details and guidance: https://numpy.org/devdocs/release/1.20.0-notes.html#deprecations\n",
      "  df_categorical_features = alldata.select_dtypes(include=[np.object])\n"
     ]
    },
    {
     "data": {
      "text/plain": [
       "Index(['State', 'Date', 'ERP Size', 'Wall / Floor', 'Sticker Body Type',\n",
       "       'Value', 'Item Cat. Code', 'Customer Type', 'Sales Type',\n",
       "       'Total AD/Sqm', 'Category', 'Review Zone', 'Category 2',\n",
       "       'Re Territory'],\n",
       "      dtype='object')"
      ]
     },
     "execution_count": 8,
     "metadata": {},
     "output_type": "execute_result"
    }
   ],
   "source": [
    "df_categorical_features = alldata.select_dtypes(include=[np.object])\n",
    "\n",
    "df_categorical_features.columns"
   ]
  },
  {
   "cell_type": "code",
   "execution_count": 9,
   "id": "bb0729bc",
   "metadata": {},
   "outputs": [
    {
     "data": {
      "text/plain": [
       "index                0\n",
       "Month                0\n",
       "MRP /Sqm             0\n",
       "Billing Rate/Sqm    14\n",
       "Buyer Rate/Sqm      14\n",
       "dtype: int64"
      ]
     },
     "execution_count": 9,
     "metadata": {},
     "output_type": "execute_result"
    }
   ],
   "source": [
    "df_numeric_features.isnull().sum()"
   ]
  },
  {
   "cell_type": "code",
   "execution_count": 10,
   "id": "4aabe894",
   "metadata": {},
   "outputs": [
    {
     "name": "stdout",
     "output_type": "stream",
     "text": [
      "<class 'pandas.core.frame.DataFrame'>\n",
      "RangeIndex: 21546 entries, 0 to 21545\n",
      "Data columns (total 5 columns):\n",
      " #   Column            Non-Null Count  Dtype  \n",
      "---  ------            --------------  -----  \n",
      " 0   index             21546 non-null  int64  \n",
      " 1   Month             21546 non-null  int64  \n",
      " 2   MRP /Sqm          21546 non-null  float64\n",
      " 3   Billing Rate/Sqm  21532 non-null  float64\n",
      " 4   Buyer Rate/Sqm    21532 non-null  float64\n",
      "dtypes: float64(3), int64(2)\n",
      "memory usage: 841.8 KB\n"
     ]
    }
   ],
   "source": [
    "df_numeric_features.info()"
   ]
  },
  {
   "cell_type": "code",
   "execution_count": 11,
   "id": "a5aee806",
   "metadata": {},
   "outputs": [],
   "source": [
    "alldata.replace(\"\", inplace=True)\n",
    "alldata.dropna(subset = [\"Billing Rate/Sqm\"], inplace=True)"
   ]
  },
  {
   "cell_type": "code",
   "execution_count": 12,
   "id": "8252a226",
   "metadata": {},
   "outputs": [],
   "source": [
    "alldata.dropna(subset = [\"Buyer Rate/Sqm\"], inplace=True)"
   ]
  },
  {
   "cell_type": "code",
   "execution_count": 13,
   "id": "56aae298",
   "metadata": {},
   "outputs": [
    {
     "data": {
      "text/plain": [
       "0"
      ]
     },
     "execution_count": 13,
     "metadata": {},
     "output_type": "execute_result"
    }
   ],
   "source": [
    "alldata[\"Billing Rate/Sqm\"].isnull().sum()\n",
    "alldata[\"Billing Rate/Sqm\"].isnull().sum()"
   ]
  },
  {
   "cell_type": "code",
   "execution_count": 14,
   "id": "d510f823",
   "metadata": {},
   "outputs": [
    {
     "data": {
      "text/plain": [
       "index                   0\n",
       "State                   0\n",
       "Date                    0\n",
       "Month                   0\n",
       "ERP Size                0\n",
       "Wall / Floor            0\n",
       "Sticker Body Type       0\n",
       "Value                4048\n",
       "Item Cat. Code          0\n",
       "Customer Type           0\n",
       "Sales Type              0\n",
       "MRP /Sqm                0\n",
       "Total AD/Sqm            0\n",
       "Billing Rate/Sqm        0\n",
       "Buyer Rate/Sqm          0\n",
       "Category                0\n",
       "Review Zone             0\n",
       "Category 2              0\n",
       "Re Territory            0\n",
       "dtype: int64"
      ]
     },
     "execution_count": 14,
     "metadata": {},
     "output_type": "execute_result"
    }
   ],
   "source": [
    "alldata.isnull().sum()"
   ]
  },
  {
   "cell_type": "code",
   "execution_count": 15,
   "id": "81ab7c53",
   "metadata": {},
   "outputs": [
    {
     "name": "stdout",
     "output_type": "stream",
     "text": [
      "<class 'pandas.core.frame.DataFrame'>\n",
      "RangeIndex: 21546 entries, 0 to 21545\n",
      "Data columns (total 14 columns):\n",
      " #   Column             Non-Null Count  Dtype \n",
      "---  ------             --------------  ----- \n",
      " 0   State              21546 non-null  object\n",
      " 1   Date               21546 non-null  object\n",
      " 2   ERP Size           21546 non-null  object\n",
      " 3   Wall / Floor       21546 non-null  object\n",
      " 4   Sticker Body Type  21546 non-null  object\n",
      " 5   Value              17498 non-null  object\n",
      " 6   Item Cat. Code     21546 non-null  object\n",
      " 7   Customer Type      21546 non-null  object\n",
      " 8   Sales Type         21546 non-null  object\n",
      " 9   Total AD/Sqm       21546 non-null  object\n",
      " 10  Category           21546 non-null  object\n",
      " 11  Review Zone        21546 non-null  object\n",
      " 12  Category 2         21546 non-null  object\n",
      " 13  Re Territory       21546 non-null  object\n",
      "dtypes: object(14)\n",
      "memory usage: 2.3+ MB\n"
     ]
    }
   ],
   "source": [
    "df_categorical_features.info()"
   ]
  },
  {
   "cell_type": "code",
   "execution_count": 16,
   "id": "b2becb64",
   "metadata": {},
   "outputs": [],
   "source": [
    "# Label encoding for State, Wall/Floor, Sticker Body Type, item cat.code, Customer Type, Sales type, CATEGORY, Review zone, Category 2, ReTerritory\n",
    "alldata[\"State\"] = alldata[\"State\"].astype(\"category\")\n",
    "alldata[\"State\"] = alldata[\"State\"].cat.codes"
   ]
  },
  {
   "cell_type": "code",
   "execution_count": 17,
   "id": "d974e481",
   "metadata": {},
   "outputs": [],
   "source": [
    "alldata[\"Wall / Floor\"] = alldata[\"Wall / Floor\"].astype(\"category\")\n",
    "alldata[\"Wall / Floor\"] = alldata[\"Wall / Floor\"].cat.codes"
   ]
  },
  {
   "cell_type": "code",
   "execution_count": 18,
   "id": "692d0cae",
   "metadata": {},
   "outputs": [],
   "source": [
    "alldata[\"Sticker Body Type\"] = alldata[\"Sticker Body Type\"].astype(\"category\")\n",
    "alldata[\"Sticker Body Type\"] = alldata[\"Sticker Body Type\"].cat.codes"
   ]
  },
  {
   "cell_type": "code",
   "execution_count": 19,
   "id": "4b5a7371",
   "metadata": {},
   "outputs": [],
   "source": [
    "alldata[\"Item Cat. Code\"] = alldata[\"Item Cat. Code\"].astype(\"category\")\n",
    "alldata[\"Item Cat. Code\"] = alldata[\"Item Cat. Code\"].cat.codes"
   ]
  },
  {
   "cell_type": "code",
   "execution_count": 20,
   "id": "70fdaf47",
   "metadata": {},
   "outputs": [],
   "source": [
    "alldata[\"Customer Type\"] = alldata[\"Customer Type\"].astype(\"category\")\n",
    "alldata[\"Customer Type\"] = alldata[\"Customer Type\"].cat.codes"
   ]
  },
  {
   "cell_type": "code",
   "execution_count": 21,
   "id": "4042a7d8",
   "metadata": {},
   "outputs": [],
   "source": [
    "alldata[\"Sales Type\"] = alldata[\"Sales Type\"].astype(\"category\")\n",
    "alldata[\"Sales Type\"] = alldata[\"Sales Type\"].cat.codes"
   ]
  },
  {
   "cell_type": "code",
   "execution_count": 22,
   "id": "40c3c75e",
   "metadata": {},
   "outputs": [],
   "source": [
    "alldata[\"Category\"] = alldata[\"Category\"].astype(\"category\")\n",
    "alldata[\"Category\"] = alldata[\"Category\"].cat.codes"
   ]
  },
  {
   "cell_type": "code",
   "execution_count": 23,
   "id": "a0a7ab24",
   "metadata": {},
   "outputs": [],
   "source": [
    "alldata[\"Review Zone\"] = alldata[\"Review Zone\"].astype(\"category\")\n",
    "alldata[\"Review Zone\"] = alldata[\"Review Zone\"].cat.codes"
   ]
  },
  {
   "cell_type": "code",
   "execution_count": 24,
   "id": "4600d4a0",
   "metadata": {},
   "outputs": [],
   "source": [
    "alldata[\"Category 2\"] = alldata[\"Category 2\"].astype(\"category\")\n",
    "alldata[\"Category 2\"] = alldata[\"Category 2\"].cat.codes"
   ]
  },
  {
   "cell_type": "code",
   "execution_count": 25,
   "id": "9e301822",
   "metadata": {},
   "outputs": [],
   "source": [
    "alldata[\"Re Territory\"] = alldata[\"Re Territory\"].astype(\"category\")\n",
    "alldata[\"Re Territory\"] = alldata[\"Re Territory\"].cat.codes"
   ]
  },
  {
   "cell_type": "code",
   "execution_count": 26,
   "id": "9ff77a54",
   "metadata": {},
   "outputs": [],
   "source": [
    "alldata[\"ERP Size\"] = alldata[\"ERP Size\"].astype(\"category\")\n",
    "alldata[\"ERP Size\"] = alldata[\"ERP Size\"].cat.codes"
   ]
  },
  {
   "cell_type": "code",
   "execution_count": 27,
   "id": "f6d8c9f0",
   "metadata": {},
   "outputs": [],
   "source": [
    "#Change Total AD/SQM and MRP/BOX into float data type\n",
    "\n",
    "alldata['Total AD/Sqm'] = alldata['Total AD/Sqm'] .astype(float, errors = 'raise')"
   ]
  },
  {
   "cell_type": "code",
   "execution_count": 28,
   "id": "bc7b47ad",
   "metadata": {},
   "outputs": [],
   "source": [
    "#to_drop = ['Retail']\n",
    "#alldata['MRP /BOX']=alldata['MRP /BOX'][~alldata['MRP /BOX'].isin(to_drop)]"
   ]
  },
  {
   "cell_type": "code",
   "execution_count": 29,
   "id": "1ff087ab",
   "metadata": {},
   "outputs": [],
   "source": [
    "#alldata['MRP /BOX'] = alldata['MRP /BOX'] .astype(float, errors = 'raise')"
   ]
  },
  {
   "cell_type": "code",
   "execution_count": 30,
   "id": "0855af95",
   "metadata": {},
   "outputs": [],
   "source": [
    "#alldata['MRP /BOX']= alldata['MRP /BOX'].dropna(axis=0, inplace=True)"
   ]
  },
  {
   "cell_type": "code",
   "execution_count": 31,
   "id": "71ee5310",
   "metadata": {},
   "outputs": [],
   "source": [
    "#alldata['MRP /BOX'].isna().sum()"
   ]
  },
  {
   "cell_type": "code",
   "execution_count": 32,
   "id": "853143cf",
   "metadata": {},
   "outputs": [],
   "source": [
    "to_drop = ['#NAME?']\n",
    "alldata['Value']=alldata['Value'][~alldata['Value'].isin(to_drop)]"
   ]
  },
  {
   "cell_type": "code",
   "execution_count": 34,
   "id": "9ad8d23a",
   "metadata": {},
   "outputs": [],
   "source": [
    "#Extracting year from date\n",
    "import datetime as dt \n",
    "alldata[\"Date\"] = pd.to_datetime(alldata[\"Date\"])\n",
    "alldata[\"Date\"] = alldata[\"Date\"].dt.year"
   ]
  },
  {
   "cell_type": "code",
   "execution_count": 35,
   "id": "67e2a0ec",
   "metadata": {},
   "outputs": [],
   "source": [
    "alldata.reset_index(inplace=True)"
   ]
  },
  {
   "cell_type": "code",
   "execution_count": 36,
   "id": "12fa51b4",
   "metadata": {},
   "outputs": [],
   "source": [
    "#Splitting data set into train and test"
   ]
  },
  {
   "cell_type": "code",
   "execution_count": 37,
   "id": "35e1c5bb",
   "metadata": {},
   "outputs": [],
   "source": [
    "df_test = alldata[alldata['Value'].isna()].drop(\"Value\", axis=1)"
   ]
  },
  {
   "cell_type": "code",
   "execution_count": 38,
   "id": "664b13e9",
   "metadata": {},
   "outputs": [],
   "source": [
    "df_train= alldata[alldata['Value'].notnull()]"
   ]
  },
  {
   "cell_type": "code",
   "execution_count": 39,
   "id": "dfbbd5cc",
   "metadata": {},
   "outputs": [
    {
     "name": "stderr",
     "output_type": "stream",
     "text": [
      "<ipython-input-39-54e54f358acd>:1: SettingWithCopyWarning: \n",
      "A value is trying to be set on a copy of a slice from a DataFrame.\n",
      "Try using .loc[row_indexer,col_indexer] = value instead\n",
      "\n",
      "See the caveats in the documentation: https://pandas.pydata.org/pandas-docs/stable/user_guide/indexing.html#returning-a-view-versus-a-copy\n",
      "  df_train['Value'] = df_train['Value'].astype(float, errors = 'raise')\n"
     ]
    }
   ],
   "source": [
    "df_train['Value'] = df_train['Value'].astype(float, errors = 'raise')"
   ]
  },
  {
   "cell_type": "markdown",
   "id": "cdfe769f",
   "metadata": {},
   "source": [
    "# Model 1: SGDRegressor()"
   ]
  },
  {
   "cell_type": "code",
   "execution_count": 41,
   "id": "06b26546",
   "metadata": {},
   "outputs": [],
   "source": [
    "#Create training and testing datasets using the train_test_split"
   ]
  },
  {
   "cell_type": "code",
   "execution_count": 42,
   "id": "1dbd3816",
   "metadata": {},
   "outputs": [
    {
     "name": "stdout",
     "output_type": "stream",
     "text": [
      "(12209, 19) (5233, 19) (12209,) (5233,)\n"
     ]
    }
   ],
   "source": [
    "# create feature and response variable set\n",
    "# we create train and test sample from our dataset\n",
    "from sklearn.model_selection import train_test_split\n",
    "# create feature and response varibles\n",
    "X = df_train.drop(['Value'], axis=1)\n",
    "Y = df_train ['Value']\n",
    "x_train, x_test, y_train, y_test = train_test_split(X, Y, test_size = 0.3)\n",
    "print(x_train.shape, x_test.shape, y_train.shape, y_test.shape)"
   ]
  },
  {
   "cell_type": "code",
   "execution_count": 43,
   "id": "a7e753be",
   "metadata": {},
   "outputs": [],
   "source": [
    "#Use SGDRegressor() to build a linear model"
   ]
  },
  {
   "cell_type": "code",
   "execution_count": 44,
   "id": "fd4dcb3f",
   "metadata": {},
   "outputs": [],
   "source": [
    "from sklearn.linear_model import SGDRegressor\n",
    "lin_model = SGDRegressor()\n",
    "# we fit our model with train data\n",
    "lin_model.fit(x_train, y_train)\n",
    "# we use predict() to predict our values\n",
    "lin_model_predictions_train = lin_model.predict(x_train)\n",
    "lin_model_predictions_test = lin_model.predict(x_test)"
   ]
  },
  {
   "cell_type": "code",
   "execution_count": 45,
   "id": "5c76b7d3",
   "metadata": {},
   "outputs": [
    {
     "name": "stdout",
     "output_type": "stream",
     "text": [
      "2.275779243497483e+16\n"
     ]
    }
   ],
   "source": [
    "# we check the root mean square error (RMSE)\n",
    "from sklearn.metrics import mean_squared_error\n",
    "mse = mean_squared_error(y_test, lin_model_predictions_test)\n",
    "rmse = np.sqrt(mse)\n",
    "print(rmse)"
   ]
  },
  {
   "cell_type": "code",
   "execution_count": 46,
   "id": "53ae7995",
   "metadata": {},
   "outputs": [],
   "source": [
    "# Predictions on test data\n",
    "pred_test_SGD = lin_model.predict(df_test)\n",
    "pred_test_SGD = pd.DataFrame(pred_test_SGD)\n",
    "pred_test_SGD.to_csv('TEST_Model_SGD.csv')"
   ]
  },
  {
   "cell_type": "markdown",
   "id": "faaa33d0",
   "metadata": {},
   "source": [
    "# Model 2: SGDRegressor with grid search"
   ]
  },
  {
   "cell_type": "code",
   "execution_count": 47,
   "id": "7dd293ec",
   "metadata": {},
   "outputs": [
    {
     "name": "stderr",
     "output_type": "stream",
     "text": [
      "/opt/anaconda3/lib/python3.8/site-packages/sklearn/linear_model/_stochastic_gradient.py:1220: ConvergenceWarning: Maximum number of iteration reached before convergence. Consider increasing max_iter to improve the fit.\n",
      "  warnings.warn(\"Maximum number of iteration reached before \"\n",
      "/opt/anaconda3/lib/python3.8/site-packages/sklearn/linear_model/_stochastic_gradient.py:1220: ConvergenceWarning: Maximum number of iteration reached before convergence. Consider increasing max_iter to improve the fit.\n",
      "  warnings.warn(\"Maximum number of iteration reached before \"\n",
      "/opt/anaconda3/lib/python3.8/site-packages/sklearn/linear_model/_stochastic_gradient.py:1220: ConvergenceWarning: Maximum number of iteration reached before convergence. Consider increasing max_iter to improve the fit.\n",
      "  warnings.warn(\"Maximum number of iteration reached before \"\n",
      "/opt/anaconda3/lib/python3.8/site-packages/sklearn/linear_model/_stochastic_gradient.py:1220: ConvergenceWarning: Maximum number of iteration reached before convergence. Consider increasing max_iter to improve the fit.\n",
      "  warnings.warn(\"Maximum number of iteration reached before \"\n",
      "/opt/anaconda3/lib/python3.8/site-packages/sklearn/linear_model/_stochastic_gradient.py:1220: ConvergenceWarning: Maximum number of iteration reached before convergence. Consider increasing max_iter to improve the fit.\n",
      "  warnings.warn(\"Maximum number of iteration reached before \"\n",
      "/opt/anaconda3/lib/python3.8/site-packages/sklearn/linear_model/_stochastic_gradient.py:1220: ConvergenceWarning: Maximum number of iteration reached before convergence. Consider increasing max_iter to improve the fit.\n",
      "  warnings.warn(\"Maximum number of iteration reached before \"\n",
      "/opt/anaconda3/lib/python3.8/site-packages/sklearn/linear_model/_stochastic_gradient.py:1220: ConvergenceWarning: Maximum number of iteration reached before convergence. Consider increasing max_iter to improve the fit.\n",
      "  warnings.warn(\"Maximum number of iteration reached before \"\n",
      "/opt/anaconda3/lib/python3.8/site-packages/sklearn/linear_model/_stochastic_gradient.py:1220: ConvergenceWarning: Maximum number of iteration reached before convergence. Consider increasing max_iter to improve the fit.\n",
      "  warnings.warn(\"Maximum number of iteration reached before \"\n",
      "/opt/anaconda3/lib/python3.8/site-packages/sklearn/linear_model/_stochastic_gradient.py:1220: ConvergenceWarning: Maximum number of iteration reached before convergence. Consider increasing max_iter to improve the fit.\n",
      "  warnings.warn(\"Maximum number of iteration reached before \"\n",
      "/opt/anaconda3/lib/python3.8/site-packages/sklearn/linear_model/_stochastic_gradient.py:1220: ConvergenceWarning: Maximum number of iteration reached before convergence. Consider increasing max_iter to improve the fit.\n",
      "  warnings.warn(\"Maximum number of iteration reached before \"\n",
      "/opt/anaconda3/lib/python3.8/site-packages/sklearn/linear_model/_stochastic_gradient.py:1220: ConvergenceWarning: Maximum number of iteration reached before convergence. Consider increasing max_iter to improve the fit.\n",
      "  warnings.warn(\"Maximum number of iteration reached before \"\n",
      "/opt/anaconda3/lib/python3.8/site-packages/sklearn/linear_model/_stochastic_gradient.py:1220: ConvergenceWarning: Maximum number of iteration reached before convergence. Consider increasing max_iter to improve the fit.\n",
      "  warnings.warn(\"Maximum number of iteration reached before \"\n",
      "/opt/anaconda3/lib/python3.8/site-packages/sklearn/linear_model/_stochastic_gradient.py:1220: ConvergenceWarning: Maximum number of iteration reached before convergence. Consider increasing max_iter to improve the fit.\n",
      "  warnings.warn(\"Maximum number of iteration reached before \"\n",
      "/opt/anaconda3/lib/python3.8/site-packages/sklearn/linear_model/_stochastic_gradient.py:1220: ConvergenceWarning: Maximum number of iteration reached before convergence. Consider increasing max_iter to improve the fit.\n",
      "  warnings.warn(\"Maximum number of iteration reached before \"\n",
      "/opt/anaconda3/lib/python3.8/site-packages/sklearn/linear_model/_stochastic_gradient.py:1220: ConvergenceWarning: Maximum number of iteration reached before convergence. Consider increasing max_iter to improve the fit.\n",
      "  warnings.warn(\"Maximum number of iteration reached before \"\n",
      "/opt/anaconda3/lib/python3.8/site-packages/sklearn/linear_model/_stochastic_gradient.py:1220: ConvergenceWarning: Maximum number of iteration reached before convergence. Consider increasing max_iter to improve the fit.\n",
      "  warnings.warn(\"Maximum number of iteration reached before \"\n",
      "/opt/anaconda3/lib/python3.8/site-packages/sklearn/linear_model/_stochastic_gradient.py:1220: ConvergenceWarning: Maximum number of iteration reached before convergence. Consider increasing max_iter to improve the fit.\n",
      "  warnings.warn(\"Maximum number of iteration reached before \"\n",
      "/opt/anaconda3/lib/python3.8/site-packages/sklearn/linear_model/_stochastic_gradient.py:1220: ConvergenceWarning: Maximum number of iteration reached before convergence. Consider increasing max_iter to improve the fit.\n",
      "  warnings.warn(\"Maximum number of iteration reached before \"\n",
      "/opt/anaconda3/lib/python3.8/site-packages/sklearn/linear_model/_stochastic_gradient.py:1220: ConvergenceWarning: Maximum number of iteration reached before convergence. Consider increasing max_iter to improve the fit.\n",
      "  warnings.warn(\"Maximum number of iteration reached before \"\n",
      "/opt/anaconda3/lib/python3.8/site-packages/sklearn/linear_model/_stochastic_gradient.py:1220: ConvergenceWarning: Maximum number of iteration reached before convergence. Consider increasing max_iter to improve the fit.\n",
      "  warnings.warn(\"Maximum number of iteration reached before \"\n",
      "/opt/anaconda3/lib/python3.8/site-packages/sklearn/linear_model/_stochastic_gradient.py:1220: ConvergenceWarning: Maximum number of iteration reached before convergence. Consider increasing max_iter to improve the fit.\n",
      "  warnings.warn(\"Maximum number of iteration reached before \"\n",
      "/opt/anaconda3/lib/python3.8/site-packages/sklearn/linear_model/_stochastic_gradient.py:1220: ConvergenceWarning: Maximum number of iteration reached before convergence. Consider increasing max_iter to improve the fit.\n",
      "  warnings.warn(\"Maximum number of iteration reached before \"\n",
      "/opt/anaconda3/lib/python3.8/site-packages/sklearn/linear_model/_stochastic_gradient.py:1220: ConvergenceWarning: Maximum number of iteration reached before convergence. Consider increasing max_iter to improve the fit.\n",
      "  warnings.warn(\"Maximum number of iteration reached before \"\n",
      "/opt/anaconda3/lib/python3.8/site-packages/sklearn/linear_model/_stochastic_gradient.py:1220: ConvergenceWarning: Maximum number of iteration reached before convergence. Consider increasing max_iter to improve the fit.\n",
      "  warnings.warn(\"Maximum number of iteration reached before \"\n",
      "/opt/anaconda3/lib/python3.8/site-packages/sklearn/linear_model/_stochastic_gradient.py:1220: ConvergenceWarning: Maximum number of iteration reached before convergence. Consider increasing max_iter to improve the fit.\n",
      "  warnings.warn(\"Maximum number of iteration reached before \"\n",
      "/opt/anaconda3/lib/python3.8/site-packages/sklearn/linear_model/_stochastic_gradient.py:1220: ConvergenceWarning: Maximum number of iteration reached before convergence. Consider increasing max_iter to improve the fit.\n",
      "  warnings.warn(\"Maximum number of iteration reached before \"\n",
      "/opt/anaconda3/lib/python3.8/site-packages/sklearn/linear_model/_stochastic_gradient.py:1220: ConvergenceWarning: Maximum number of iteration reached before convergence. Consider increasing max_iter to improve the fit.\n",
      "  warnings.warn(\"Maximum number of iteration reached before \"\n",
      "/opt/anaconda3/lib/python3.8/site-packages/sklearn/linear_model/_stochastic_gradient.py:1220: ConvergenceWarning: Maximum number of iteration reached before convergence. Consider increasing max_iter to improve the fit.\n",
      "  warnings.warn(\"Maximum number of iteration reached before \"\n",
      "/opt/anaconda3/lib/python3.8/site-packages/sklearn/linear_model/_stochastic_gradient.py:1220: ConvergenceWarning: Maximum number of iteration reached before convergence. Consider increasing max_iter to improve the fit.\n",
      "  warnings.warn(\"Maximum number of iteration reached before \"\n",
      "/opt/anaconda3/lib/python3.8/site-packages/sklearn/linear_model/_stochastic_gradient.py:1220: ConvergenceWarning: Maximum number of iteration reached before convergence. Consider increasing max_iter to improve the fit.\n",
      "  warnings.warn(\"Maximum number of iteration reached before \"\n"
     ]
    },
    {
     "name": "stdout",
     "output_type": "stream",
     "text": [
      "Best score: 0.2641047174429407\n"
     ]
    }
   ],
   "source": [
    "#Create a model with grid search\n",
    "\n",
    "# ignore the deprecation warning\n",
    "import warnings\n",
    "warnings.filterwarnings(\"ignore\", category=DeprecationWarning)\n",
    "warnings.filterwarnings(\"ignore\", category=FutureWarning)\n",
    "\n",
    "from sklearn.model_selection import GridSearchCV\n",
    "\n",
    "# Grid search - this will take about 1 minute.\n",
    "param_grid = {\n",
    "    'alpha': [.1,.01,.001,.0001,.00001],\n",
    "    'loss': ['squared_loss', 'huber', 'epsilon_insensitive'],\n",
    "    'penalty': ['l2', 'l1', 'elasticnet'],\n",
    "    'learning_rate': ['constant', 'optimal', 'invscaling'],\n",
    "}\n",
    "clf = GridSearchCV(lin_model, param_grid)\n",
    "clf.fit(x_train, y_train)\n",
    "print(\"Best score: \" + str(clf.best_score_))"
   ]
  },
  {
   "cell_type": "code",
   "execution_count": 48,
   "id": "5d1342f5",
   "metadata": {},
   "outputs": [],
   "source": [
    "pred_test = clf.predict(x_test)"
   ]
  },
  {
   "cell_type": "code",
   "execution_count": 49,
   "id": "02728da6",
   "metadata": {},
   "outputs": [
    {
     "name": "stdout",
     "output_type": "stream",
     "text": [
      "Best C: 1.0\n",
      "Best alpha: 0.1\n",
      "Best tol: 0.001\n",
      "Best eta0: 0.01\n",
      "Best learning rate: optimal\n"
     ]
    }
   ],
   "source": [
    "#Print best parameter values\n",
    "\n",
    "print('Best C:',clf.best_estimator_.C) \n",
    "print('Best alpha:',clf.best_estimator_.alpha) \n",
    "#print('Best n_iter:',clf.best_estimator_.n_iter)\n",
    "print('Best tol:',clf.best_estimator_.tol) \n",
    "print('Best eta0:',clf.best_estimator_.eta0) \n",
    "print('Best learning rate:',clf.best_estimator_.learning_rate)"
   ]
  },
  {
   "cell_type": "code",
   "execution_count": 50,
   "id": "70f5fb85",
   "metadata": {},
   "outputs": [],
   "source": [
    "# Build a model using best parameters\n",
    "# create a linear regression with sgd"
   ]
  },
  {
   "cell_type": "code",
   "execution_count": 51,
   "id": "8f6f76b4",
   "metadata": {},
   "outputs": [],
   "source": [
    "linreg_SGD = SGDRegressor(loss='squared_loss', alpha=0.1, penalty='l1',eta0=0.01,learning_rate='invscaling',max_iter=1000)"
   ]
  },
  {
   "cell_type": "code",
   "execution_count": 52,
   "id": "4a843c99",
   "metadata": {},
   "outputs": [
    {
     "data": {
      "text/plain": [
       "SGDRegressor(alpha=0.1, penalty='l1')"
      ]
     },
     "execution_count": 52,
     "metadata": {},
     "output_type": "execute_result"
    }
   ],
   "source": [
    "#Training the model\n",
    "# ignore the deprecation warning\n",
    "\n",
    "warnings.filterwarnings(\"ignore\", category=DeprecationWarning)\n",
    "\n",
    "linreg_SGD.fit(x_train,y_train)"
   ]
  },
  {
   "cell_type": "code",
   "execution_count": 53,
   "id": "132720c7",
   "metadata": {},
   "outputs": [],
   "source": [
    "lin_model_predictions_train = linreg_SGD.predict(x_train)\n",
    "lin_model_predictions_test = linreg_SGD.predict(x_test)"
   ]
  },
  {
   "cell_type": "code",
   "execution_count": 54,
   "id": "2ec333a9",
   "metadata": {},
   "outputs": [
    {
     "name": "stdout",
     "output_type": "stream",
     "text": [
      "1.5520724722307678e+16\n"
     ]
    }
   ],
   "source": [
    "# we check the root mean square error (RMSE)\n",
    "from sklearn.metrics import mean_squared_error\n",
    "mse = mean_squared_error(y_test, lin_model_predictions_test)\n",
    "rmse = np.sqrt(mse)\n",
    "print(rmse)"
   ]
  },
  {
   "cell_type": "code",
   "execution_count": 55,
   "id": "4a36d0d9",
   "metadata": {},
   "outputs": [],
   "source": [
    "# Predictions on test data\n",
    "pred_test_GS_SGD = linreg_SGD.predict(df_test)\n",
    "pred_test_GS_SGD = pd.DataFrame(pred_test_GS_SGD)\n",
    "pred_test_GS_SGD.to_csv('TEST_Model_GS_SGD.csv', index=False)"
   ]
  },
  {
   "cell_type": "markdown",
   "id": "ff4b8734",
   "metadata": {},
   "source": [
    "# Model 3: Decision Tree"
   ]
  },
  {
   "cell_type": "code",
   "execution_count": 56,
   "id": "6e6a6f49",
   "metadata": {},
   "outputs": [],
   "source": [
    "from sklearn import tree\n",
    "from sklearn import preprocessing\n",
    "from sklearn.ensemble import AdaBoostRegressor\n",
    "from sklearn.tree import DecisionTreeRegressor\n",
    "from sklearn import metrics\n",
    "\n",
    "# Create decision tree classifier object using gini index\n",
    "clf_DT = DecisionTreeRegressor(random_state=0)"
   ]
  },
  {
   "cell_type": "code",
   "execution_count": 57,
   "id": "563db6cc",
   "metadata": {},
   "outputs": [],
   "source": [
    "# Train model\n",
    "model_DT = clf_DT.fit(x_train,y_train)\n",
    "\n",
    "# Predicting the model\n",
    "y_pred_DT = model_DT.predict(x_test)"
   ]
  },
  {
   "cell_type": "code",
   "execution_count": 69,
   "id": "a032d3a5",
   "metadata": {},
   "outputs": [],
   "source": [
    "DT = model_DT.predict(x_test)"
   ]
  },
  {
   "cell_type": "code",
   "execution_count": 70,
   "id": "ef984182",
   "metadata": {},
   "outputs": [
    {
     "name": "stdout",
     "output_type": "stream",
     "text": [
      "17924.130031255907\n"
     ]
    }
   ],
   "source": [
    "# we check the root mean square error (RMSE)\n",
    "from sklearn.metrics import mean_squared_error\n",
    "mse = mean_squared_error(y_test, DT)\n",
    "rmse = np.sqrt(mse)\n",
    "print(rmse)"
   ]
  },
  {
   "cell_type": "code",
   "execution_count": 61,
   "id": "447cdf0a",
   "metadata": {},
   "outputs": [],
   "source": [
    "# Predictions on test data\n",
    "pred_test_DT = model_DT.predict(df_test)\n",
    "pred_test_DT = pd.DataFrame(pred_test_DT)\n",
    "pred_test_DT.to_csv('TEST_Model_DecisionTree.csv')"
   ]
  },
  {
   "cell_type": "markdown",
   "id": "e6318796",
   "metadata": {},
   "source": [
    "# Model 4: Random Forest"
   ]
  },
  {
   "cell_type": "code",
   "execution_count": 62,
   "id": "51a44f76",
   "metadata": {},
   "outputs": [],
   "source": [
    "from sklearn.ensemble import RandomForestRegressor\n",
    "# Create random tree classifer object\n",
    "clf_RF = RandomForestRegressor(random_state=0) # n_jobs=-1"
   ]
  },
  {
   "cell_type": "code",
   "execution_count": 63,
   "id": "2d8e71b7",
   "metadata": {},
   "outputs": [],
   "source": [
    "# Train model\n",
    "model_RF = clf_RF.fit(x_train,y_train)\n",
    "\n",
    "# Predicting the model\n",
    "y_pred_RF = model_RF.predict(x_test)"
   ]
  },
  {
   "cell_type": "code",
   "execution_count": 64,
   "id": "b21e5efb",
   "metadata": {},
   "outputs": [],
   "source": [
    "# Predictions on test data\n",
    "pred_test_RF = model_RF.predict(df_test)\n",
    "pred_test_RF = pd.DataFrame(pred_test_RF)\n",
    "pred_test_RF.to_csv('TEST_Model_Random_Forest.csv')"
   ]
  },
  {
   "cell_type": "markdown",
   "id": "20044cfb",
   "metadata": {},
   "source": [
    "# Model 5: KNN"
   ]
  },
  {
   "cell_type": "code",
   "execution_count": 65,
   "id": "74702d7d",
   "metadata": {},
   "outputs": [],
   "source": [
    "from sklearn import neighbors\n",
    "from sklearn.metrics import mean_squared_error \n",
    "from math import sqrt\n",
    "import matplotlib.pyplot as plt\n",
    "%matplotlib inline"
   ]
  },
  {
   "cell_type": "code",
   "execution_count": 66,
   "id": "bc0e3d5c",
   "metadata": {},
   "outputs": [
    {
     "name": "stdout",
     "output_type": "stream",
     "text": [
      "RMSE value for k=  1 is: 20561.517856261686\n",
      "RMSE value for k=  2 is: 19911.774694037165\n",
      "RMSE value for k=  3 is: 19278.213843854926\n",
      "RMSE value for k=  4 is: 19095.11402553502\n",
      "RMSE value for k=  5 is: 19229.473010696165\n",
      "RMSE value for k=  6 is: 19584.416935834757\n",
      "RMSE value for k=  7 is: 19645.415331760843\n",
      "RMSE value for k=  8 is: 19577.351782176807\n",
      "RMSE value for k=  9 is: 19619.16255639214\n",
      "RMSE value for k=  10 is: 19654.535559748467\n",
      "RMSE value for k=  11 is: 19788.45879668563\n",
      "RMSE value for k=  12 is: 19783.974106666712\n",
      "RMSE value for k=  13 is: 19900.99836835761\n",
      "RMSE value for k=  14 is: 19982.21841186314\n",
      "RMSE value for k=  15 is: 20057.437193241567\n",
      "RMSE value for k=  16 is: 20105.918616469058\n",
      "RMSE value for k=  17 is: 20140.284984201\n",
      "RMSE value for k=  18 is: 20176.31684567138\n",
      "RMSE value for k=  19 is: 20183.780200335357\n",
      "RMSE value for k=  20 is: 20234.389952909976\n"
     ]
    }
   ],
   "source": [
    "# Create-KNN-model\n",
    "rmse_val = [] #to store rmse values for different k\n",
    "for K in range(20):\n",
    "    K = K+1\n",
    "    model = neighbors.KNeighborsRegressor(n_neighbors = K)\n",
    "\n",
    "    model.fit(x_train, y_train)  #fit the model\n",
    "    pred=model.predict(x_test) #make prediction on test set\n",
    "    error = sqrt(mean_squared_error(y_test,pred)) #calculate rmse\n",
    "    rmse_val.append(error) #store rmse values\n",
    "    print('RMSE value for k= ' , K , 'is:', error)"
   ]
  },
  {
   "cell_type": "code",
   "execution_count": 67,
   "id": "ec34bc2b",
   "metadata": {},
   "outputs": [
    {
     "data": {
      "text/plain": [
       "array([ 7703.343 , 21083.76  , 11676.0285, ..., 12925.332 , 15834.042 ,\n",
       "       10464.3495])"
      ]
     },
     "execution_count": 67,
     "metadata": {},
     "output_type": "execute_result"
    }
   ],
   "source": [
    "pred"
   ]
  },
  {
   "cell_type": "code",
   "execution_count": 68,
   "id": "3bb2bbc6",
   "metadata": {},
   "outputs": [],
   "source": [
    "# Predictions on test data\n",
    "pred_test_KNN = model.predict(df_test)\n",
    "pred_test_KNN = pd.DataFrame(pred_test_KNN)\n",
    "pred_test_KNN.to_csv('TEST_Model_KNN.csv')"
   ]
  },
  {
   "cell_type": "code",
   "execution_count": null,
   "id": "9d45fb9d",
   "metadata": {},
   "outputs": [],
   "source": []
  }
 ],
 "metadata": {
  "kernelspec": {
   "display_name": "Python 3",
   "language": "python",
   "name": "python3"
  },
  "language_info": {
   "codemirror_mode": {
    "name": "ipython",
    "version": 3
   },
   "file_extension": ".py",
   "mimetype": "text/x-python",
   "name": "python",
   "nbconvert_exporter": "python",
   "pygments_lexer": "ipython3",
   "version": "3.8.8"
  }
 },
 "nbformat": 4,
 "nbformat_minor": 5
}
